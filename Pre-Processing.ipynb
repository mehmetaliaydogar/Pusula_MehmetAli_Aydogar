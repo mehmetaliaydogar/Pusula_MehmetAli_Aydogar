{
 "cells": [
  {
   "cell_type": "code",
   "execution_count": 1,
   "id": "58f9e827",
   "metadata": {},
   "outputs": [],
   "source": [
    "import numpy as np\n",
    "import pandas as pd\n",
    "import matplotlib.pyplot as plt\n",
    "import seaborn as sns"
   ]
  },
  {
   "cell_type": "code",
   "execution_count": null,
   "id": "188a4220",
   "metadata": {},
   "outputs": [],
   "source": [
    "\n",
    "df = pd.read_excel(\"C:\\\\Users\\\\Mehmet Ali\\\\Desktop\\\\Datalar\\\\Pusula Academy\\\\Talent_Academy_Case_DT_2025.xlsx\")"
   ]
  },
  {
   "cell_type": "code",
   "execution_count": null,
   "id": "9a59f742",
   "metadata": {},
   "outputs": [],
   "source": [
    "# \n",
    "df_clean = df.copy()"
   ]
  },
  {
   "cell_type": "code",
   "execution_count": null,
   "id": "3ac4f40f",
   "metadata": {},
   "outputs": [],
   "source": [
    "\n",
    "\n",
    "df_clean['Cinsiyet'] = df_clean['Cinsiyet'].fillna('Eksik')\n",
    "df_clean['Alerji'] = df_clean['Alerji'].fillna('Bilinmiyor')\n",
    "df_clean['KanGrubu'] = df_clean['KanGrubu'].fillna('Bilinmiyor')\n",
    "df_clean['KronikHastalik'] = df_clean['KronikHastalik'].fillna('Bilinmiyor')\n",
    "df_clean['UygulamaYerleri'] = df_clean['UygulamaYerleri'].fillna('Bilinmiyor')\n",
    "df_clean['Tanilar'] = df_clean['Tanilar'].fillna('Bilinmiyor')\n",
    "df_clean['Bolum'] = df_clean['Bolum'].fillna('Bilinmiyor')\n",
    "\n",
    "\n",
    "\n",
    "df_clean['Yas'] = df_clean['Yas'].fillna(np.nan)"
   ]
  },
  {
   "cell_type": "code",
   "execution_count": null,
   "id": "a98eec22",
   "metadata": {},
   "outputs": [],
   "source": [
    "\n",
    "\n",
    "df_clean['TedaviSuresi_Num'] = df_clean['TedaviSuresi'].str.extract('(\\d+)').astype(float)\n",
    "df_clean['UygulamaSuresi_Num'] = df_clean['UygulamaSuresi'].str.extract('(\\d+)').astype(float)"
   ]
  },
  {
   "cell_type": "code",
   "execution_count": null,
   "id": "b5ea3f59",
   "metadata": {},
   "outputs": [],
   "source": [
    "\n",
    "\n",
    "df_patient = df_clean.groupby('HastaNo').first().reset_index()\n",
    "\n"
   ]
  },
  {
   "cell_type": "code",
   "execution_count": null,
   "id": "dbaa0104",
   "metadata": {},
   "outputs": [
    {
     "name": "stdout",
     "output_type": "stream",
     "text": [
      "Hasta bazlı veri boyutu: (404, 13)\n"
     ]
    }
   ],
   "source": [
    "\n",
    "\n",
    "agg_dict = {\n",
    "    'Yas': 'first',                       \n",
    "    'Cinsiyet': 'first',                   \n",
    "    'KanGrubu': 'first',                  \n",
    "    'Uyruk': 'first',                     \n",
    "    'KronikHastalik': lambda x: ','.join(set(x.dropna().astype(str))),  \n",
    "    'Bolum': lambda x: ','.join(set(x.dropna().astype(str))),\n",
    "    'Alerji': lambda x: ','.join(set(x.dropna().astype(str))),\n",
    "    'Tanilar': lambda x: ','.join(set(x.dropna().astype(str))),\n",
    "    'TedaviAdi': lambda x: ','.join(set(x.dropna().astype(str))),\n",
    "    'UygulamaYerleri': lambda x: ','.join(set(x.dropna().astype(str))),\n",
    "    'UygulamaSuresi_Num': 'mean',          \n",
    "    'TedaviSuresi_Num': 'mean'             \n",
    "}\n",
    "\n",
    "df_patient = df_clean.groupby('HastaNo').agg(agg_dict).reset_index()\n",
    "\n",
    "print(\"Hasta bazlı veri boyutu:\", df_patient.shape)\n"
   ]
  },
  {
   "cell_type": "code",
   "execution_count": null,
   "id": "7cd24c20",
   "metadata": {},
   "outputs": [
    {
     "name": "stdout",
     "output_type": "stream",
     "text": [
      "Ön işlenmiş train veri boyutu: (323, 733)\n",
      "Ön işlenmiş test veri boyutu: (81, 733)\n"
     ]
    }
   ],
   "source": [
    "\n",
    "\n",
    "from sklearn.model_selection import train_test_split\n",
    "from sklearn.preprocessing import OneHotEncoder, StandardScaler\n",
    "from sklearn.compose import ColumnTransformer\n",
    "from sklearn.pipeline import Pipeline\n",
    "from sklearn.impute import SimpleImputer\n",
    "\n",
    "\n",
    "target = \"TedaviSuresi_Num\"\n",
    "\n",
    "\n",
    "features = ['Yas', 'Cinsiyet', 'KanGrubu', 'Uyruk', \n",
    "            'KronikHastalik', 'Bolum', 'Alerji', \n",
    "            'Tanilar', 'TedaviAdi', 'UygulamaYerleri', \n",
    "            'UygulamaSuresi_Num']\n",
    "\n",
    "X = df_patient[features]\n",
    "y = df_patient[target]\n",
    "\n",
    "\n",
    "numeric_features = ['Yas', 'UygulamaSuresi_Num']\n",
    "categorical_features = ['Cinsiyet', 'KanGrubu', 'Uyruk', 'KronikHastalik',\n",
    "                        'Bolum', 'Alerji', 'Tanilar', 'TedaviAdi', 'UygulamaYerleri']\n",
    "\n",
    "\n",
    "numeric_transformer = Pipeline(steps=[\n",
    "    (\"imputer\", SimpleImputer(strategy=\"mean\")),\n",
    "    (\"scaler\", StandardScaler())\n",
    "])\n",
    "\n",
    "\n",
    "categorical_transformer = Pipeline(steps=[\n",
    "    (\"imputer\", SimpleImputer(strategy=\"most_frequent\")),\n",
    "    (\"encoder\", OneHotEncoder(handle_unknown=\"ignore\"))\n",
    "])\n",
    "\n",
    "\n",
    "preprocessor = ColumnTransformer(\n",
    "    transformers=[\n",
    "        (\"num\", numeric_transformer, numeric_features),\n",
    "        (\"cat\", categorical_transformer, categorical_features)\n",
    "    ]\n",
    ")\n",
    "\n",
    "\n",
    "X_train, X_test, y_train, y_test = train_test_split(\n",
    "    X, y, test_size=0.2, random_state=42\n",
    ")\n",
    "\n",
    "\n",
    "pipeline = Pipeline(steps=[(\"preprocessor\", preprocessor)])\n",
    "\n",
    "\n",
    "X_train_processed = pipeline.fit_transform(X_train)\n",
    "X_test_processed = pipeline.transform(X_test)\n",
    "\n",
    "print(\"Ön işlenmiş train veri boyutu:\", X_train_processed.shape)\n",
    "print(\"Ön işlenmiş test veri boyutu:\", X_test_processed.shape)\n"
   ]
  }
 ],
 "metadata": {
  "kernelspec": {
   "display_name": "Python 3",
   "language": "python",
   "name": "python3"
  },
  "language_info": {
   "codemirror_mode": {
    "name": "ipython",
    "version": 3
   },
   "file_extension": ".py",
   "mimetype": "text/x-python",
   "name": "python",
   "nbconvert_exporter": "python",
   "pygments_lexer": "ipython3",
   "version": "3.11.9"
  }
 },
 "nbformat": 4,
 "nbformat_minor": 5
}
